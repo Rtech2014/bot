{
 "cells": [
  {
   "cell_type": "code",
   "execution_count": 14,
   "metadata": {},
   "outputs": [],
   "source": [
    "import multiprocessing\n",
    "import time\n",
    "import pandas as pd"
   ]
  },
  {
   "cell_type": "code",
   "execution_count": 17,
   "metadata": {},
   "outputs": [],
   "source": [
    "data = pd.read_csv('data.csv')\n",
    "entities = data.to_dict('dict')"
   ]
  },
  {
   "cell_type": "code",
   "execution_count": 18,
   "metadata": {},
   "outputs": [
    {
     "data": {
      "text/plain": [
       "{'make': {0: 'audi', 1: 'bmw'},\n",
       " 'model': {0: 'a3 q7 a7', 1: '200s 300s'},\n",
       " 'type': {0: 'new used certified]', 1: 'new used certified]'},\n",
       " 'price': {0: '20000 dollars', 1: '$2000'},\n",
       " 'booking': {0: 'test drive - visit your store - appointment',\n",
       "  1: 'schedule - store hours'}}"
      ]
     },
     "execution_count": 18,
     "metadata": {},
     "output_type": "execute_result"
    }
   ],
   "source": [
    "entities"
   ]
  },
  {
   "cell_type": "code",
   "execution_count": 19,
   "metadata": {},
   "outputs": [],
   "source": [
    "# Make only\n",
    "# Model only\n",
    "# Type only\n",
    "# Price only\n",
    "# Booking only\n",
    "\n",
    "# Make Model, Make Type, Make Price, Make Booking\n",
    "# Model Type, Model Price, Model Booking\n",
    "# Type Price, Type Booking  \n",
    "# Price Booking\n",
    "\n",
    "# Make Model Type, Make Model Price, Make Model Booking, Make Type Price, Make Type Booking, Make Price Booking\n",
    "# Model Type Price, Model Type Booking, Model Price Booking\n",
    "# Type Price Booking\n",
    "\n",
    "# Make Model Type Price, Make Model Price Booking\n",
    "# Make Model Type Price Booking"
   ]
  },
  {
   "cell_type": "code",
   "execution_count": 29,
   "metadata": {},
   "outputs": [
    {
     "name": "stdout",
     "output_type": "stream",
     "text": [
      "<class 'dict'>\n"
     ]
    }
   ],
   "source": [
    "# import pyyaml module\n",
    "import yaml\n",
    "from yaml.loader import SafeLoader\n",
    "\n",
    "# Open the file and load the file\n",
    "with open('pattern.yaml') as f:\n",
    "    data = yaml.load(f, Loader=SafeLoader)\n",
    "    print(type(data))\n"
   ]
  },
  {
   "cell_type": "code",
   "execution_count": null,
   "metadata": {},
   "outputs": [],
   "source": []
  }
 ],
 "metadata": {
  "interpreter": {
   "hash": "367532a1fe862b3878b7467442a7dee65042fb096c178c6ce1bf461bdb095264"
  },
  "kernelspec": {
   "display_name": "Python 3.10.4 ('env': venv)",
   "language": "python",
   "name": "python3"
  },
  "language_info": {
   "codemirror_mode": {
    "name": "ipython",
    "version": 3
   },
   "file_extension": ".py",
   "mimetype": "text/x-python",
   "name": "python",
   "nbconvert_exporter": "python",
   "pygments_lexer": "ipython3",
   "version": "3.10.4"
  },
  "orig_nbformat": 4
 },
 "nbformat": 4,
 "nbformat_minor": 2
}
